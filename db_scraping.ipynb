{
 "cells": [
  {
   "cell_type": "code",
   "execution_count": 1,
   "metadata": {},
   "outputs": [],
   "source": [
    "import bs4\n",
    "import requests\n",
    "import re\n",
    "import sqlite3\n",
    "import pandas as pd\n",
    "import datetime"
   ]
  },
  {
   "cell_type": "code",
   "execution_count": 2,
   "metadata": {},
   "outputs": [],
   "source": [
    "months = [\"January\", \"February\", \"March\", \"April\", \"May\", \"June\", \"July\", \"August\", \"September\", \"October\", \"November\", \"December\"]\n",
    "days = [31,29,31,30,31,30,31,31,30,31,30,31]\n",
    "month_mapping ={\"January\" : \"01\", \n",
    "                \"February\" : \"02\",\n",
    "                \"March\" : \"03\",\n",
    "                \"April\" : \"04\",\n",
    "                \"May\" : \"05\",\n",
    "                \"June\" : \"06\",\n",
    "                \"July\" : \"07\",\n",
    "                \"August\" : \"08\",\n",
    "                \"September\" : \"09\",\n",
    "                \"October\" : \"10\",\n",
    "                \"November\" : \"11\",\n",
    "                \"December\" : \"12\"}"
   ]
  },
  {
   "cell_type": "code",
   "execution_count": 3,
   "metadata": {},
   "outputs": [],
   "source": [
    "urls = []\n",
    "\n",
    "for index, month in enumerate(months):\n",
    "    for day in range(days[index]):\n",
    "        urls.append(str(month) + \"_\" + str(day+1))"
   ]
  },
  {
   "cell_type": "code",
   "execution_count": 4,
   "metadata": {},
   "outputs": [],
   "source": [
    "def clean_year(year):\n",
    "    year = year.replace(\"AD \", \"\")\n",
    "    year = year.replace(\" (probable)\", \"\")\n",
    "    \n",
    "    if \"BC\" in year:\n",
    "        year = year.replace(\" BCE\", \"\")\n",
    "        year = year.replace(\" BC\", \"\")\n",
    "        while len(year) < 4:\n",
    "            year = \"0\" + str(year)\n",
    "        return year, True\n",
    "    \n",
    "    while len(year) < 4:\n",
    "        year = \"0\" + str(year)\n",
    "    return year, False\n",
    "\n",
    "def clean_time(time):\n",
    "    time = re.sub(\"\\s+\", \"\", time)\n",
    "    return time\n",
    "\n",
    "def preprocess_row(row, event, date):\n",
    "    dict1={}\n",
    "     # Removes [1] from the end - e.g. They rebel and proclaim Vitellius as emperor.[1]\n",
    "    row = re.sub(\"\\[[0-9]*\\]\", \"\", row.text)\n",
    "    \n",
    "    if len(row.split(' – ')) > 1:\n",
    "        dict1['event'] = event\n",
    "        year = row.split(' – ')[0]\n",
    "        year, bc = clean_year(year)\n",
    "        time = str(year) + \"-\" + date\n",
    "        dict1['description'] = row.split(' – ')[1]\n",
    "        if bc:\n",
    "            dict1['time'] = None\n",
    "            dict1['bc'] = clean_time(time)\n",
    "        else:\n",
    "            dict1['time'] = clean_time(time) \n",
    "            dict1['bc'] = None\n",
    "        \n",
    "    elif len(row.split(' - ')) > 1:\n",
    "        dict1['event'] = event\n",
    "        year = row.split(' - ')[0]\n",
    "        year, bc = clean_year(year)\n",
    "        time = str(year) + \"-\" + date\n",
    "        dict1['description'] = row.split(' - ')[1]\n",
    "        if bc:\n",
    "            dict1['time'] = None\n",
    "            dict1['bc'] = clean_time(time)\n",
    "        else:\n",
    "            dict1['time'] = clean_time(time)\n",
    "            dict1['bc'] = None\n",
    "            \n",
    "    return dict1"
   ]
  },
  {
   "cell_type": "code",
   "execution_count": 6,
   "metadata": {},
   "outputs": [],
   "source": [
    "base_url = \"https://en.wikipedia.org/wiki/\"\n",
    "\n",
    "ids = ['Births', 'Deaths', 'Events']\n",
    "\n",
    "rows = []\n",
    "\n",
    "for url in urls:\n",
    "    response = requests.get(base_url + url) # retrieve html from each url\n",
    "    \n",
    "    if response is not None:\n",
    "        page = bs4.BeautifulSoup(response.text, 'html.parser')\n",
    "        \n",
    "        date = month_mapping[url.split(\"_\")[0]] + \"-\"\n",
    "        \n",
    "        day = str(url.split(\"_\")[1])\n",
    "        if len(day)<2:\n",
    "            day = \"0\"+day\n",
    "        date += day\n",
    "        \n",
    "        for index, element in enumerate(page.find_all(['h2', 'ul'])):\n",
    "            if element.name == 'h2':\n",
    "                event_type = list(map(lambda x: x in str(element), ids)) # a list of booleans corresponding to the event type\n",
    "                if True in event_type: # if Births/Events/Deaths\n",
    "                    event = ids[event_type.index(True)]\n",
    "                    content = page.find_all(['h2', 'ul'])[index+1].find_all('li')\n",
    "                    for row in content:\n",
    "                        rows.append(preprocess_row(row, event, date))\n",
    "    else:\n",
    "        print(\"Response is None for: \", base_url + url)"
   ]
  },
  {
   "cell_type": "code",
   "execution_count": 7,
   "metadata": {},
   "outputs": [],
   "source": [
    "df = pd.DataFrame(rows) # populate a dataframe from the scraped data"
   ]
  },
  {
   "cell_type": "code",
   "execution_count": 8,
   "metadata": {},
   "outputs": [
    {
     "data": {
      "text/plain": [
       "131255"
      ]
     },
     "execution_count": 8,
     "metadata": {},
     "output_type": "execute_result"
    }
   ],
   "source": [
    "len(df)"
   ]
  },
  {
   "cell_type": "code",
   "execution_count": 9,
   "metadata": {},
   "outputs": [
    {
     "data": {
      "text/plain": [
       "bc             131100\n",
       "description       295\n",
       "event             295\n",
       "time              450\n",
       "dtype: int64"
      ]
     },
     "execution_count": 9,
     "metadata": {},
     "output_type": "execute_result"
    }
   ],
   "source": [
    "df.isna().sum()"
   ]
  },
  {
   "cell_type": "code",
   "execution_count": 10,
   "metadata": {},
   "outputs": [
    {
     "data": {
      "text/plain": [
       "130960"
      ]
     },
     "execution_count": 10,
     "metadata": {},
     "output_type": "execute_result"
    }
   ],
   "source": [
    "# drop all rows in which all values are NaN?\n",
    "len(df.dropna(how='all')) "
   ]
  },
  {
   "cell_type": "code",
   "execution_count": 11,
   "metadata": {},
   "outputs": [],
   "source": [
    "df.dropna(how='all',inplace=True)"
   ]
  },
  {
   "cell_type": "code",
   "execution_count": 12,
   "metadata": {},
   "outputs": [
    {
     "data": {
      "text/plain": [
       "bc             130805\n",
       "description         0\n",
       "event               0\n",
       "time              155\n",
       "dtype: int64"
      ]
     },
     "execution_count": 12,
     "metadata": {},
     "output_type": "execute_result"
    }
   ],
   "source": [
    "df.isna().sum() \n",
    "# remaining NaN values in 'time' column are the entries which had BC/BCE years\n",
    "# they have a corresponding value in 'bc' column"
   ]
  },
  {
   "cell_type": "code",
   "execution_count": 14,
   "metadata": {},
   "outputs": [],
   "source": [
    "# creates a databse\n",
    "conn = sqlite3.connect(\"wikipedia.db\")"
   ]
  },
  {
   "cell_type": "code",
   "execution_count": 15,
   "metadata": {},
   "outputs": [],
   "source": [
    "# populates the database from the dataframe\n",
    "df.to_sql(name='wikipedia.db', con=conn)"
   ]
  },
  {
   "cell_type": "code",
   "execution_count": 16,
   "metadata": {},
   "outputs": [],
   "source": [
    "conn.commit()\n",
    "conn.close()"
   ]
  }
 ],
 "metadata": {
  "kernelspec": {
   "display_name": "Python 3",
   "language": "python",
   "name": "python3"
  },
  "language_info": {
   "codemirror_mode": {
    "name": "ipython",
    "version": 3
   },
   "file_extension": ".py",
   "mimetype": "text/x-python",
   "name": "python",
   "nbconvert_exporter": "python",
   "pygments_lexer": "ipython3",
   "version": "3.7.1"
  }
 },
 "nbformat": 4,
 "nbformat_minor": 2
}
